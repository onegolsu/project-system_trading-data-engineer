{
 "cells": [
  {
   "cell_type": "code",
   "execution_count": 1,
   "metadata": {},
   "outputs": [
    {
     "data": {
      "text/plain": [
       "'\\nFUNDAMENTAL\\nTECHNICAL \\n    (LINEAR_COEFFICENT)\\nTRADER\\n'"
      ]
     },
     "execution_count": 1,
     "metadata": {},
     "output_type": "execute_result"
    }
   ],
   "source": [
    "\"\"\"\n",
    "FUNDAMENTAL\n",
    "TECHNICAL \n",
    "    (LINEAR_COEFFICENT)\n",
    "TRADER\n",
    "\"\"\""
   ]
  },
  {
   "cell_type": "code",
   "execution_count": 2,
   "metadata": {},
   "outputs": [],
   "source": [
    "import datetime as dt\n",
    "import pandas as pd\n",
    "\n",
    "from de.processor.dart import DART_FUNDAMENTAL_PROCESSOR\n",
    "from de.processor.fdr import FDR_INFO_PROCESSOR, FDR_OHLCV_PREPROCESSOR\n",
    "from de.loader.pykrx_loader import get_pykrx_loader\n",
    "\n",
    "from de.processor.factor.fundamental import FUNDAMENTAL_FACTOR_PROCESSOR\n",
    "from de.processor.factor.technical import LINEAR_COEFFICENT_FACTOR_PROCESSOR\n",
    "from de.processor.factor.trader import TRADER_FACTOR_PROCESSOR\n",
    "\n",
    "from de.model_paramter import MODEL_PARAMTER_PROCESSOR\n",
    "\n",
    "from de.analyser.factor import FACTOR_ANALYSER\n",
    "from de.processor.factor.filter import FACTOR_FILTER"
   ]
  },
  {
   "cell_type": "code",
   "execution_count": 3,
   "metadata": {},
   "outputs": [],
   "source": [
    "CFG = {\n",
    "    \"FUNDAMENTAL\": {\n",
    "        \"PROCESSOR\": {\n",
    "            \"ohlcv_recent_n\": 10,\n",
    "        },\n",
    "        \"FILTER\": {},\n",
    "    },\n",
    "    \"LINEAR_COEF\": {\n",
    "        \"PROCESSOR\": {\n",
    "            \"factors\": [\"Close\", \"VolumeRotation\"],\n",
    "            \"moving_average_window\": 10,\n",
    "            \"coef_recent_n\": 20,\n",
    "        },\n",
    "        \"FILTER\": {},\n",
    "    },\n",
    "    \"TRADER\": {\n",
    "        \"PROCESSOR\": {\n",
    "            \"start\": (dt.date.today() - dt.timedelta(days=7)).strftime(\"%Y-%m-%d\"),\n",
    "            \"end\": (dt.date.today() - dt.timedelta(days=1)).strftime(\"%Y-%m-%d\"),\n",
    "            # \"end\": dt.date.today().strftime(\"%Y-%m-%d\"),\n",
    "        },\n",
    "        \"FILTER\": {\n",
    "            \"absolute_conditions\": [\n",
    "                \"Corp > 0\",\n",
    "                \"Foreign > 0\",\n",
    "                \"Indivisual < 0\",\n",
    "            ]\n",
    "        },\n",
    "    },\n",
    "    \"FACTOR_ANALYSIS\": {\n",
    "        \"profit_recent_n\": 20,\n",
    "    },\n",
    "}\n",
    "recen_n = CFG[\"FACTOR_ANALYSIS\"][\"profit_recent_n\"]\n",
    "analysis_date = (dt.date.today() - dt.timedelta(days=recen_n)).strftime(\"%Y-%m-%d\")\n",
    "CFG[\"analysis_date\"] = analysis_date"
   ]
  },
  {
   "cell_type": "code",
   "execution_count": 4,
   "metadata": {},
   "outputs": [],
   "source": [
    "# LOAD"
   ]
  },
  {
   "cell_type": "code",
   "execution_count": 5,
   "metadata": {},
   "outputs": [],
   "source": [
    "# dart_fundamental\n",
    "dart_fundamental_df = pd.read_csv(\"./de/data/dart_fundamental_df.csv\", index_col=0)\n",
    "dart_fundamental_processor = DART_FUNDAMENTAL_PROCESSOR(dart_fundamental_df)"
   ]
  },
  {
   "cell_type": "code",
   "execution_count": 6,
   "metadata": {},
   "outputs": [],
   "source": [
    "# fdr_info\n",
    "fdr_info_df = pd.read_csv(\"./de/data/fdr_info_df.csv\", index_col=0)\n",
    "fdr_info_processor = FDR_INFO_PROCESSOR(fdr_info_df)"
   ]
  },
  {
   "cell_type": "code",
   "execution_count": 7,
   "metadata": {},
   "outputs": [],
   "source": [
    "# fdr_ohlcv\n",
    "fdr_ohlcv_df = pd.read_csv(\"./de/data/fdr_ohlcv_df.csv\", index_col=0)\n",
    "fdr_ohlcv_preprocessor = FDR_OHLCV_PREPROCESSOR(fdr_ohlcv_df)\n",
    "ohlcv_df = fdr_ohlcv_preprocessor.get_pps_fdr_ohlcv_df()"
   ]
  },
  {
   "cell_type": "code",
   "execution_count": null,
   "metadata": {},
   "outputs": [],
   "source": []
  },
  {
   "cell_type": "code",
   "execution_count": 8,
   "metadata": {},
   "outputs": [],
   "source": [
    "# split ohlcv\n",
    "future_ohlcv_df = ohlcv_df[CFG[\"analysis_date\"] < ohlcv_df[\"Date\"]].copy()\n",
    "past_ohlcv_df = ohlcv_df[ohlcv_df[\"Date\"] < CFG[\"analysis_date\"]].copy()"
   ]
  },
  {
   "cell_type": "code",
   "execution_count": null,
   "metadata": {},
   "outputs": [],
   "source": []
  },
  {
   "cell_type": "code",
   "execution_count": 9,
   "metadata": {},
   "outputs": [],
   "source": [
    "model_paramter_processor = MODEL_PARAMTER_PROCESSOR(CFG[\"FACTOR_ANALYSIS\"])"
   ]
  },
  {
   "cell_type": "code",
   "execution_count": 10,
   "metadata": {},
   "outputs": [],
   "source": [
    "# Fundamental\n",
    "\n",
    "## Parameter\n",
    "### 1. Get Factor_df\n",
    "fundamental_factor_processor = FUNDAMENTAL_FACTOR_PROCESSOR(\n",
    "    past_ohlcv_df, dart_fundamental_processor, fdr_info_processor\n",
    ")\n",
    "fundamental_factors_df = fundamental_factor_processor.get_fundamental_factor_df(CFG[\"FUNDAMENTAL\"][\"PROCESSOR\"])\n",
    "\n",
    "### 2. Get Parameter\n",
    "fundamental_factor_analyser = FACTOR_ANALYSER(fundamental_factors_df)\n",
    "fundamental_params_dict = model_paramter_processor.get_params_dict(future_ohlcv_df, fundamental_factor_analyser)\n",
    "fundamental_param_df = pd.DataFrame().from_dict(fundamental_params_dict, orient=\"index\", columns=[\"Value\", \"Variance\"])\n",
    "\n",
    "### 3. Set Paramter\n",
    "fundamental_param = fundamental_param_df.nlargest(10, \"Value\").nsmallest(1, \"Variance\").index[0]\n",
    "CFG[\"FUNDAMENTAL\"][\"FILTER\"][\"quantile_conditions\"] = fundamental_param\n",
    "\n",
    "## Model\n",
    "### 1. Get Factor_df\n",
    "fundamental_factor_processor = FUNDAMENTAL_FACTOR_PROCESSOR(ohlcv_df, dart_fundamental_processor, fdr_info_processor)\n",
    "fundamental_factor_df = fundamental_factor_processor.get_fundamental_factor_df(CFG[\"FUNDAMENTAL\"][\"PROCESSOR\"])\n",
    "\n",
    "### 2. Get Filtered_stockcodes\n",
    "factor_filter = FACTOR_FILTER(fundamental_factor_df)\n",
    "fundamental_stockcodes = factor_filter.get_filtered_stockcodes(CFG[\"FUNDAMENTAL\"][\"FILTER\"])"
   ]
  },
  {
   "cell_type": "code",
   "execution_count": 11,
   "metadata": {},
   "outputs": [
    {
     "data": {
      "text/html": [
       "<div>\n",
       "<style scoped>\n",
       "    .dataframe tbody tr th:only-of-type {\n",
       "        vertical-align: middle;\n",
       "    }\n",
       "\n",
       "    .dataframe tbody tr th {\n",
       "        vertical-align: top;\n",
       "    }\n",
       "\n",
       "    .dataframe thead th {\n",
       "        text-align: right;\n",
       "    }\n",
       "</style>\n",
       "<table border=\"1\" class=\"dataframe\">\n",
       "  <thead>\n",
       "    <tr style=\"text-align: right;\">\n",
       "      <th></th>\n",
       "      <th>Value</th>\n",
       "      <th>Variance</th>\n",
       "    </tr>\n",
       "  </thead>\n",
       "  <tbody>\n",
       "    <tr>\n",
       "      <th>((CEPP, 0.0, 0.3), (TLR, 0.3, 0.6))</th>\n",
       "      <td>0.051778</td>\n",
       "      <td>0.001322</td>\n",
       "    </tr>\n",
       "  </tbody>\n",
       "</table>\n",
       "</div>"
      ],
      "text/plain": [
       "                                        Value  Variance\n",
       "((CEPP, 0.0, 0.3), (TLR, 0.3, 0.6))  0.051778  0.001322"
      ]
     },
     "execution_count": 11,
     "metadata": {},
     "output_type": "execute_result"
    }
   ],
   "source": [
    "fundamental_param_df.nlargest(5, \"Value\").nsmallest(1, \"Variance\")"
   ]
  },
  {
   "cell_type": "code",
   "execution_count": 12,
   "metadata": {},
   "outputs": [],
   "source": [
    "# Technical\n",
    "\n",
    "## Paramter\n",
    "### 1. Get Factor_df\n",
    "linear_coefficient_factor_processor = LINEAR_COEFFICENT_FACTOR_PROCESSOR(past_ohlcv_df, fdr_info_processor)\n",
    "linear_coefficient_factors_df = linear_coefficient_factor_processor.get_linear_coef_factor_df(\n",
    "    CFG[\"LINEAR_COEF\"][\"PROCESSOR\"]\n",
    ")\n",
    "\n",
    "### 2. Get Parameter\n",
    "linear_coefficient_factor_analyser = FACTOR_ANALYSER(linear_coefficient_factors_df)\n",
    "linear_coefficient_params_dict = model_paramter_processor.get_params_dict(\n",
    "    future_ohlcv_df, linear_coefficient_factor_analyser\n",
    ")\n",
    "linear_coefficient_param_df = pd.DataFrame().from_dict(\n",
    "    linear_coefficient_params_dict, orient=\"index\", columns=[\"Value\", \"Variance\"]\n",
    ")\n",
    "\n",
    "### 3. Set Paramter\n",
    "linear_coefficient_param = linear_coefficient_param_df.nlargest(10, \"Value\").nsmallest(1, \"Variance\").index[0]\n",
    "CFG[\"LINEAR_COEF\"][\"FILTER\"][\"quantile_conditions\"] = linear_coefficient_param\n",
    "\n",
    "## Model\n",
    "### 1. Get Factor_df\n",
    "linear_coefficient_factor_processor = LINEAR_COEFFICENT_FACTOR_PROCESSOR(ohlcv_df, fdr_info_processor)\n",
    "linear_coefficient_factors_df = linear_coefficient_factor_processor.get_linear_coef_factor_df(\n",
    "    CFG[\"LINEAR_COEF\"][\"PROCESSOR\"]\n",
    ")\n",
    "\n",
    "### 2. Get Filtered_stockcodes\n",
    "factor_filter = FACTOR_FILTER(linear_coefficient_factors_df)\n",
    "linear_coefficient_stockcodes = factor_filter.get_filtered_stockcodes(\n",
    "    CFG[\"LINEAR_COEF\"][\"FILTER\"], fundamental_stockcodes\n",
    ")"
   ]
  },
  {
   "cell_type": "code",
   "execution_count": 13,
   "metadata": {},
   "outputs": [
    {
     "data": {
      "text/plain": [
       "(('VolumeRotation', 0.3, 0.6), ('Close', 0.0, 0.3))"
      ]
     },
     "execution_count": 13,
     "metadata": {},
     "output_type": "execute_result"
    }
   ],
   "source": [
    "linear_coefficient_param_df.nlargest(5, \"Value\").nsmallest(1, \"Variance\").index[0]"
   ]
  },
  {
   "cell_type": "code",
   "execution_count": 17,
   "metadata": {},
   "outputs": [
    {
     "data": {
      "text/plain": [
       "{'006260', '017390', '019680', '221980'}"
      ]
     },
     "execution_count": 17,
     "metadata": {},
     "output_type": "execute_result"
    }
   ],
   "source": [
    "linear_coefficient_stockcodes"
   ]
  },
  {
   "cell_type": "code",
   "execution_count": 14,
   "metadata": {},
   "outputs": [],
   "source": [
    "# Trader\n",
    "pykrx_loader = get_pykrx_loader()\n",
    "\n",
    "trader_factor_processor = TRADER_FACTOR_PROCESSOR(pykrx_loader)\n",
    "trader_factor_df = trader_factor_processor.get_trader_factor_df(\n",
    "    linear_coefficient_stockcodes, CFG[\"TRADER\"][\"PROCESSOR\"]\n",
    ")\n",
    "\n",
    "factor_filter = FACTOR_FILTER(trader_factor_df)\n",
    "final_stockcodes = factor_filter.get_filtered_stockcodes(CFG[\"TRADER\"][\"FILTER\"], linear_coefficient_stockcodes)"
   ]
  },
  {
   "cell_type": "code",
   "execution_count": 15,
   "metadata": {},
   "outputs": [
    {
     "data": {
      "text/plain": [
       "set()"
      ]
     },
     "execution_count": 15,
     "metadata": {},
     "output_type": "execute_result"
    }
   ],
   "source": [
    "final_stockcodes"
   ]
  }
 ],
 "metadata": {
  "kernelspec": {
   "display_name": "quant_trading",
   "language": "python",
   "name": "python3"
  },
  "language_info": {
   "codemirror_mode": {
    "name": "ipython",
    "version": 3
   },
   "file_extension": ".py",
   "mimetype": "text/x-python",
   "name": "python",
   "nbconvert_exporter": "python",
   "pygments_lexer": "ipython3",
   "version": "3.10.13"
  }
 },
 "nbformat": 4,
 "nbformat_minor": 2
}
