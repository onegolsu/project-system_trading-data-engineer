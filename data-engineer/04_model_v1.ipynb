{
 "cells": [
  {
   "cell_type": "code",
   "execution_count": 1,
   "metadata": {},
   "outputs": [
    {
     "data": {
      "text/plain": [
       "'\\nFUNDAMENTAL\\nTECHNICAL \\n    (MOVING_AVERAGE)\\nTRADER\\n'"
      ]
     },
     "execution_count": 1,
     "metadata": {},
     "output_type": "execute_result"
    }
   ],
   "source": [
    "\"\"\"\n",
    "FUNDAMENTAL\n",
    "TECHNICAL \n",
    "    (MOVING_AVERAGE)\n",
    "TRADER\n",
    "\"\"\""
   ]
  },
  {
   "cell_type": "code",
   "execution_count": 2,
   "metadata": {},
   "outputs": [],
   "source": [
    "import datetime as dt\n",
    "import pandas as pd\n",
    "\n",
    "from de.processor.dart import DART_FUNDAMENTAL_PROCESSOR, DART_INFO_PROCESSOR\n",
    "from de.processor.fdr import FDR_INFO_PROCESSOR, FDR_OHLCV_PREPROCESSOR\n",
    "\n",
    "from de.loader.pykrx_loader import get_pykrx_loader\n",
    "\n",
    "from de.processor.factor.fundamental import FUNDAMENTAL_FACTOR_PROCESSOR\n",
    "from de.processor.factor.technical import MOVING_AVERAGE_FACTOR_PROCESSOR\n",
    "from de.processor.factor.trader import TRADER_FACTOR_PROCESSOR\n",
    "\n",
    "from de.processor.factor.filter import FACTOR_FILTER"
   ]
  },
  {
   "cell_type": "code",
   "execution_count": 3,
   "metadata": {},
   "outputs": [],
   "source": [
    "CFG = {\n",
    "    \"FUNDAMENTAL\": {\n",
    "        \"PROCESSOR\": {\n",
    "            \"ohlcv_recent_n\": 10,\n",
    "        },\n",
    "        \"FILTER\": {\n",
    "            \"quantile_conditions\": [\n",
    "                (\"CLR\", 0.0, 1.0),\n",
    "                (\"TLR\", 0.1, 0.7),\n",
    "                (\"NPP\", 0.3, 0.8),\n",
    "                (\"OPP\", 0.3, 0.7),\n",
    "                (\"TAPP\", 0.0, 0.5),\n",
    "                (\"TEPP\", 0.0, 0.5),\n",
    "                (\"CAPP\", 0.0, 0.4),\n",
    "                (\"CEPP\", 0.1, 0.5),\n",
    "            ]\n",
    "        },\n",
    "    },\n",
    "    \"MOVING_AVERAGE\": {\n",
    "        \"PROCESSOR\": {\n",
    "            \"factors\": [\"Close\", \"VolumeRotation\"],\n",
    "            \"short_term_window\": round((7 * 2) * (5 / 7)),\n",
    "            \"long_term_window\": round((7 * 8) * (5 / 7)),\n",
    "            \"signal_recent_n\": 20,\n",
    "        },\n",
    "        \"FILTER\": {\n",
    "            \"quantile_conditions\": [\n",
    "                (\"Close\", 0.6, 0.9),\n",
    "                (\"VolumeRotation\", 0.0, 0.3),\n",
    "            ]\n",
    "        },\n",
    "    },\n",
    "    \"TRADER\": {\n",
    "        \"PROCESSOR\": {\n",
    "            \"start\": (dt.date.today() - dt.timedelta(days=7)).strftime(\"%Y-%m-%d\"),\n",
    "            \"end\": (dt.date.today() - dt.timedelta(days=1)).strftime(\"%Y-%m-%d\"),\n",
    "            # \"end\": dt.date.today().strftime(\"%Y-%m-%d\"),\n",
    "        },\n",
    "        \"FILTER\": {\n",
    "            \"absolute_conditions\": [\n",
    "                \"Corp > 0\",\n",
    "                \"Foreign > 0\",\n",
    "                \"Indivisual < 0\",\n",
    "            ]\n",
    "        },\n",
    "    },\n",
    "}"
   ]
  },
  {
   "cell_type": "code",
   "execution_count": 4,
   "metadata": {},
   "outputs": [],
   "source": [
    "# Load"
   ]
  },
  {
   "cell_type": "code",
   "execution_count": 5,
   "metadata": {},
   "outputs": [],
   "source": [
    "# dart_fundamental\n",
    "dart_fundamental_df = pd.read_csv(\"./de/data/dart_fundamental_df.csv\", index_col=0)\n",
    "dart_fundamental_processor = DART_FUNDAMENTAL_PROCESSOR(dart_fundamental_df)"
   ]
  },
  {
   "cell_type": "code",
   "execution_count": 6,
   "metadata": {},
   "outputs": [],
   "source": [
    "# dart_info\n",
    "dart_info_df = pd.read_csv(\"./de/data/dart_info_df.csv\", index_col=0)\n",
    "dart_info_processor = DART_INFO_PROCESSOR(dart_info_df)"
   ]
  },
  {
   "cell_type": "code",
   "execution_count": 7,
   "metadata": {},
   "outputs": [],
   "source": [
    "# fdr_info\n",
    "fdr_info_df = pd.read_csv(\"./de/data/fdr_info_df.csv\", index_col=0)\n",
    "fdr_info_processor = FDR_INFO_PROCESSOR(fdr_info_df)"
   ]
  },
  {
   "cell_type": "code",
   "execution_count": 8,
   "metadata": {},
   "outputs": [],
   "source": [
    "# fdr_ohlcv\n",
    "fdr_ohlcv_df = pd.read_csv(\"./de/data/fdr_ohlcv_df.csv\", index_col=0)\n",
    "fdr_ohlcv_preprocessor = FDR_OHLCV_PREPROCESSOR(fdr_ohlcv_df)\n",
    "ohlcv_df = fdr_ohlcv_preprocessor.get_pps_fdr_ohlcv_df()"
   ]
  },
  {
   "cell_type": "code",
   "execution_count": 9,
   "metadata": {},
   "outputs": [],
   "source": [
    "# Model"
   ]
  },
  {
   "cell_type": "code",
   "execution_count": 10,
   "metadata": {},
   "outputs": [],
   "source": [
    "# Fundamental\n",
    "fundamental_factor_processor = FUNDAMENTAL_FACTOR_PROCESSOR(ohlcv_df, dart_fundamental_processor, fdr_info_processor)\n",
    "fundamental_factor_df = fundamental_factor_processor.get_fundamental_factor_df(CFG[\"FUNDAMENTAL\"][\"PROCESSOR\"])\n",
    "\n",
    "factor_filter = FACTOR_FILTER(fundamental_factor_df)\n",
    "fundamental_stockcodes = factor_filter.get_filtered_stockcodes(CFG[\"FUNDAMENTAL\"][\"FILTER\"])"
   ]
  },
  {
   "cell_type": "code",
   "execution_count": 11,
   "metadata": {},
   "outputs": [],
   "source": [
    "# Technical\n",
    "## Moving Average\n",
    "moving_average_factor_processor = MOVING_AVERAGE_FACTOR_PROCESSOR(ohlcv_df, fdr_info_processor)\n",
    "moving_average_factors_df = moving_average_factor_processor.get_moving_average_factor_df(\n",
    "    CFG[\"MOVING_AVERAGE\"][\"PROCESSOR\"]\n",
    ")\n",
    "\n",
    "factor_filter = FACTOR_FILTER(moving_average_factors_df)\n",
    "technical_stockcodes = factor_filter.get_filtered_stockcodes(\n",
    "    CFG[\"MOVING_AVERAGE\"][\"FILTER\"], fundamental_stockcodes\n",
    ")"
   ]
  },
  {
   "cell_type": "code",
   "execution_count": 12,
   "metadata": {},
   "outputs": [],
   "source": [
    "# Trader\n",
    "pykrx_loader = get_pykrx_loader()\n",
    "\n",
    "trader_factor_processor = TRADER_FACTOR_PROCESSOR(pykrx_loader)\n",
    "trader_factor_df = trader_factor_processor.get_trader_factor_df(technical_stockcodes, CFG[\"TRADER\"][\"PROCESSOR\"])\n",
    "\n",
    "factor_filter = FACTOR_FILTER(trader_factor_df)\n",
    "final_stockcodes = factor_filter.get_filtered_stockcodes(CFG[\"TRADER\"][\"FILTER\"], technical_stockcodes)"
   ]
  },
  {
   "cell_type": "code",
   "execution_count": 13,
   "metadata": {},
   "outputs": [
    {
     "data": {
      "text/plain": [
       "{'008370', '138070'}"
      ]
     },
     "execution_count": 13,
     "metadata": {},
     "output_type": "execute_result"
    }
   ],
   "source": [
    "final_stockcodes"
   ]
  },
  {
   "cell_type": "code",
   "execution_count": null,
   "metadata": {},
   "outputs": [],
   "source": []
  }
 ],
 "metadata": {
  "kernelspec": {
   "display_name": "quant_trading",
   "language": "python",
   "name": "python3"
  },
  "language_info": {
   "codemirror_mode": {
    "name": "ipython",
    "version": 3
   },
   "file_extension": ".py",
   "mimetype": "text/x-python",
   "name": "python",
   "nbconvert_exporter": "python",
   "pygments_lexer": "ipython3",
   "version": "3.10.13"
  }
 },
 "nbformat": 4,
 "nbformat_minor": 2
}
