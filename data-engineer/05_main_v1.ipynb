{
 "cells": [
  {
   "cell_type": "code",
   "execution_count": 18,
   "metadata": {},
   "outputs": [
    {
     "data": {
      "text/plain": [
       "'\\nFUNDAMENTAL\\nTECHNICAL \\n    (MOVING_AVERAGE)\\nTRADER\\n'"
      ]
     },
     "execution_count": 18,
     "metadata": {},
     "output_type": "execute_result"
    }
   ],
   "source": [
    "\"\"\"\n",
    "FUNDAMENTAL\n",
    "TECHNICAL \n",
    "    (MOVING_AVERAGE)\n",
    "TRADER\n",
    "\"\"\""
   ]
  },
  {
   "cell_type": "code",
   "execution_count": 19,
   "metadata": {},
   "outputs": [],
   "source": [
    "import datetime as dt\n",
    "import pandas as pd\n",
    "\n",
    "from de.processor.dart import DART_FUNDAMENTAL_PROCESSOR\n",
    "from de.processor.fdr import FDR_INFO_PROCESSOR, FDR_OHLCV_PREPROCESSOR\n",
    "from de.loader.pykrx_loader import get_pykrx_loader\n",
    "\n",
    "from de.processor.factor.fundamental import FUNDAMENTAL_FACTOR_PROCESSOR\n",
    "from de.processor.factor.technical import MOVING_AVERAGE_FACTOR_PROCESSOR\n",
    "from de.processor.factor.trader import TRADER_FACTOR_PROCESSOR\n",
    "\n",
    "from de.model_paramter import MODEL_PARAMTER_PROCESSOR\n",
    "\n",
    "from de.analyser.factor import FACTOR_ANALYSER\n",
    "from de.processor.factor.filter import FACTOR_FILTER"
   ]
  },
  {
   "cell_type": "code",
   "execution_count": 20,
   "metadata": {},
   "outputs": [],
   "source": [
    "CFG = {\n",
    "    \"FUNDAMENTAL\": {\n",
    "        \"PROCESSOR\": {\n",
    "            \"ohlcv_recent_n\": 10,\n",
    "        },\n",
    "        \"FILTER\": {},\n",
    "    },\n",
    "    \"MOVING_AVERAGE\": {\n",
    "        \"PROCESSOR\": {\n",
    "            \"factors\": [\"Close\", \"VolumeRotation\"],\n",
    "            \"short_term_window\": round((7 * 2) * (5 / 7)),\n",
    "            \"long_term_window\": round((7 * 8) * (5 / 7)),\n",
    "            \"signal_recent_n\": 20,\n",
    "        },\n",
    "        \"FILTER\": {},\n",
    "    },\n",
    "    \"TRADER\": {\n",
    "        \"PROCESSOR\": {\n",
    "            \"start\": (dt.date.today() - dt.timedelta(days=9)).strftime(\"%Y-%m-%d\"),\n",
    "            \"end\": (dt.date.today() - dt.timedelta(days=1)).strftime(\"%Y-%m-%d\"),\n",
    "            # \"end\": dt.date.today().strftime(\"%Y-%m-%d\"),\n",
    "        },\n",
    "        \"FILTER\": {\n",
    "            \"absolute_conditions\": [\n",
    "                \"Corp > 0\",\n",
    "                \"Foreign > 0\",\n",
    "                \"Indivisual < 0\",\n",
    "            ]\n",
    "        },\n",
    "    },\n",
    "    \"FACTOR_ANALYSIS\": {\n",
    "        \"profit_recent_n\": 20,\n",
    "    },\n",
    "}\n",
    "recen_n = CFG[\"FACTOR_ANALYSIS\"][\"profit_recent_n\"]\n",
    "analysis_date = (dt.date.today() - dt.timedelta(days=recen_n)).strftime(\"%Y-%m-%d\")\n",
    "CFG[\"analysis_date\"] = analysis_date"
   ]
  },
  {
   "cell_type": "code",
   "execution_count": 21,
   "metadata": {},
   "outputs": [],
   "source": [
    "# LOAD"
   ]
  },
  {
   "cell_type": "code",
   "execution_count": 22,
   "metadata": {},
   "outputs": [],
   "source": [
    "# dart_fundamental\n",
    "dart_fundamental_df = pd.read_csv(\"./de/data/dart_fundamental_df.csv\", index_col=0)\n",
    "dart_fundamental_processor = DART_FUNDAMENTAL_PROCESSOR(dart_fundamental_df)"
   ]
  },
  {
   "cell_type": "code",
   "execution_count": 23,
   "metadata": {},
   "outputs": [],
   "source": [
    "# fdr_info\n",
    "fdr_info_df = pd.read_csv(\"./de/data/fdr_info_df.csv\", index_col=0)\n",
    "fdr_info_processor = FDR_INFO_PROCESSOR(fdr_info_df)"
   ]
  },
  {
   "cell_type": "code",
   "execution_count": 24,
   "metadata": {},
   "outputs": [],
   "source": [
    "# fdr_ohlcv\n",
    "fdr_ohlcv_df = pd.read_csv(\"./de/data/fdr_ohlcv_df.csv\", index_col=0)\n",
    "fdr_ohlcv_preprocessor = FDR_OHLCV_PREPROCESSOR(fdr_ohlcv_df)\n",
    "ohlcv_df = fdr_ohlcv_preprocessor.get_pps_fdr_ohlcv_df()"
   ]
  },
  {
   "cell_type": "code",
   "execution_count": null,
   "metadata": {},
   "outputs": [],
   "source": []
  },
  {
   "cell_type": "code",
   "execution_count": 25,
   "metadata": {},
   "outputs": [],
   "source": [
    "# split ohlcv\n",
    "future_ohlcv_df = ohlcv_df[CFG[\"analysis_date\"] < ohlcv_df[\"Date\"]].copy()\n",
    "past_ohlcv_df = ohlcv_df[ohlcv_df[\"Date\"] < CFG[\"analysis_date\"]].copy()"
   ]
  },
  {
   "cell_type": "code",
   "execution_count": null,
   "metadata": {},
   "outputs": [],
   "source": []
  },
  {
   "cell_type": "code",
   "execution_count": 26,
   "metadata": {},
   "outputs": [],
   "source": [
    "model_paramter_processor = MODEL_PARAMTER_PROCESSOR(CFG[\"FACTOR_ANALYSIS\"])"
   ]
  },
  {
   "cell_type": "code",
   "execution_count": 27,
   "metadata": {},
   "outputs": [],
   "source": [
    "# Fundamental\n",
    "\n",
    "## Parameter\n",
    "### 1. Get Factor_df\n",
    "fundamental_factor_processor = FUNDAMENTAL_FACTOR_PROCESSOR(\n",
    "    past_ohlcv_df, dart_fundamental_processor, fdr_info_processor\n",
    ")\n",
    "fundamental_factors_df = fundamental_factor_processor.get_fundamental_factor_df(CFG[\"FUNDAMENTAL\"][\"PROCESSOR\"])\n",
    "\n",
    "### 2. Get Parameter\n",
    "fundamental_factor_analyser = FACTOR_ANALYSER(fundamental_factors_df)\n",
    "fundamental_params_dict = model_paramter_processor.get_params_dict(future_ohlcv_df, fundamental_factor_analyser)\n",
    "fundamental_param_df = pd.DataFrame().from_dict(fundamental_params_dict, orient=\"index\", columns=[\"Value\", \"Variance\"])\n",
    "\n",
    "### 3. Set Paramter\n",
    "fundamental_param = fundamental_param_df.nlargest(10, \"Value\").nsmallest(1, \"Variance\").index[0]\n",
    "CFG[\"FUNDAMENTAL\"][\"FILTER\"][\"quantile_conditions\"] = fundamental_param\n",
    "\n",
    "## Model\n",
    "### 1. Get Factor_df\n",
    "fundamental_factor_processor = FUNDAMENTAL_FACTOR_PROCESSOR(ohlcv_df, dart_fundamental_processor, fdr_info_processor)\n",
    "fundamental_factor_df = fundamental_factor_processor.get_fundamental_factor_df(CFG[\"FUNDAMENTAL\"][\"PROCESSOR\"])\n",
    "\n",
    "### 2. Get Filtered_stockcodes\n",
    "factor_filter = FACTOR_FILTER(fundamental_factor_df)\n",
    "fundamental_stockcodes = factor_filter.get_filtered_stockcodes(CFG[\"FUNDAMENTAL\"][\"FILTER\"])"
   ]
  },
  {
   "cell_type": "code",
   "execution_count": 28,
   "metadata": {},
   "outputs": [
    {
     "data": {
      "text/html": [
       "<div>\n",
       "<style scoped>\n",
       "    .dataframe tbody tr th:only-of-type {\n",
       "        vertical-align: middle;\n",
       "    }\n",
       "\n",
       "    .dataframe tbody tr th {\n",
       "        vertical-align: top;\n",
       "    }\n",
       "\n",
       "    .dataframe thead th {\n",
       "        text-align: right;\n",
       "    }\n",
       "</style>\n",
       "<table border=\"1\" class=\"dataframe\">\n",
       "  <thead>\n",
       "    <tr style=\"text-align: right;\">\n",
       "      <th></th>\n",
       "      <th>Value</th>\n",
       "      <th>Variance</th>\n",
       "    </tr>\n",
       "  </thead>\n",
       "  <tbody>\n",
       "    <tr>\n",
       "      <th>((CEPP, 0.0, 0.3), (TLR, 0.3, 0.6))</th>\n",
       "      <td>0.051778</td>\n",
       "      <td>0.001322</td>\n",
       "    </tr>\n",
       "  </tbody>\n",
       "</table>\n",
       "</div>"
      ],
      "text/plain": [
       "                                        Value  Variance\n",
       "((CEPP, 0.0, 0.3), (TLR, 0.3, 0.6))  0.051778  0.001322"
      ]
     },
     "execution_count": 28,
     "metadata": {},
     "output_type": "execute_result"
    }
   ],
   "source": [
    "fundamental_param_df.nlargest(5, \"Value\").nsmallest(1, \"Variance\")"
   ]
  },
  {
   "cell_type": "code",
   "execution_count": 29,
   "metadata": {},
   "outputs": [],
   "source": [
    "# Technical\n",
    "\n",
    "## Paramter\n",
    "### 1. Get Factor_df\n",
    "moving_average_factor_processor = MOVING_AVERAGE_FACTOR_PROCESSOR(past_ohlcv_df, fdr_info_processor)\n",
    "moving_average_factors_df = moving_average_factor_processor.get_moving_average_factor_df(\n",
    "    CFG[\"MOVING_AVERAGE\"][\"PROCESSOR\"]\n",
    ")\n",
    "\n",
    "### 2. Get Parameter\n",
    "moving_average_factor_analyser = FACTOR_ANALYSER(moving_average_factors_df)\n",
    "moving_average_params_dict = model_paramter_processor.get_params_dict(future_ohlcv_df, moving_average_factor_analyser)\n",
    "moving_average_param_df = pd.DataFrame().from_dict(\n",
    "    moving_average_params_dict, orient=\"index\", columns=[\"Value\", \"Variance\"]\n",
    ")\n",
    "\n",
    "### 3. Set Paramter\n",
    "moving_average_param = moving_average_param_df.nlargest(10, \"Value\").nsmallest(1, \"Variance\").index[0]\n",
    "CFG[\"MOVING_AVERAGE\"][\"FILTER\"][\"quantile_conditions\"] = moving_average_param\n",
    "\n",
    "## Model\n",
    "### 1. Get Factor_df\n",
    "moving_average_factor_processor = MOVING_AVERAGE_FACTOR_PROCESSOR(ohlcv_df, fdr_info_processor)\n",
    "moving_average_factors_df = moving_average_factor_processor.get_moving_average_factor_df(CFG[\"MOVING_AVERAGE\"][\"PROCESSOR\"])\n",
    "\n",
    "### 2. Get Filtered_stockcodes\n",
    "factor_filter = FACTOR_FILTER(moving_average_factors_df)\n",
    "moving_average_stockcodes = factor_filter.get_filtered_stockcodes(CFG[\"MOVING_AVERAGE\"][\"FILTER\"], fundamental_stockcodes)"
   ]
  },
  {
   "cell_type": "code",
   "execution_count": 30,
   "metadata": {},
   "outputs": [
    {
     "data": {
      "text/html": [
       "<div>\n",
       "<style scoped>\n",
       "    .dataframe tbody tr th:only-of-type {\n",
       "        vertical-align: middle;\n",
       "    }\n",
       "\n",
       "    .dataframe tbody tr th {\n",
       "        vertical-align: top;\n",
       "    }\n",
       "\n",
       "    .dataframe thead th {\n",
       "        text-align: right;\n",
       "    }\n",
       "</style>\n",
       "<table border=\"1\" class=\"dataframe\">\n",
       "  <thead>\n",
       "    <tr style=\"text-align: right;\">\n",
       "      <th></th>\n",
       "      <th>Value</th>\n",
       "      <th>Variance</th>\n",
       "    </tr>\n",
       "  </thead>\n",
       "  <tbody>\n",
       "    <tr>\n",
       "      <th>((VolumeRotation, 0.5, 0.8), (Close, 0.3, 0.6))</th>\n",
       "      <td>0.042696</td>\n",
       "      <td>0.000892</td>\n",
       "    </tr>\n",
       "  </tbody>\n",
       "</table>\n",
       "</div>"
      ],
      "text/plain": [
       "                                                    Value  Variance\n",
       "((VolumeRotation, 0.5, 0.8), (Close, 0.3, 0.6))  0.042696  0.000892"
      ]
     },
     "execution_count": 30,
     "metadata": {},
     "output_type": "execute_result"
    }
   ],
   "source": [
    "moving_average_param_df.nlargest(5, \"Value\").nsmallest(1, \"Variance\")"
   ]
  },
  {
   "cell_type": "code",
   "execution_count": 31,
   "metadata": {},
   "outputs": [
    {
     "data": {
      "text/plain": [
       "{'002450',\n",
       " '007720',\n",
       " '014190',\n",
       " '035420',\n",
       " '044780',\n",
       " '067900',\n",
       " '073560',\n",
       " '221980'}"
      ]
     },
     "execution_count": 31,
     "metadata": {},
     "output_type": "execute_result"
    }
   ],
   "source": [
    "moving_average_stockcodes"
   ]
  },
  {
   "cell_type": "code",
   "execution_count": 32,
   "metadata": {},
   "outputs": [],
   "source": [
    "# Trader\n",
    "pykrx_loader = get_pykrx_loader()\n",
    "\n",
    "## 1. Get Factor_df\n",
    "trader_factor_processor = TRADER_FACTOR_PROCESSOR(pykrx_loader)\n",
    "trader_factor_df = trader_factor_processor.get_trader_factor_df(moving_average_stockcodes, CFG[\"TRADER\"][\"PROCESSOR\"])\n",
    "\n",
    "## Model\n",
    "factor_filter = FACTOR_FILTER(trader_factor_df)\n",
    "final_stockcodes = factor_filter.get_filtered_stockcodes(CFG[\"TRADER\"][\"FILTER\"], moving_average_stockcodes)"
   ]
  },
  {
   "cell_type": "code",
   "execution_count": 34,
   "metadata": {},
   "outputs": [
    {
     "data": {
      "text/html": [
       "<div>\n",
       "<style scoped>\n",
       "    .dataframe tbody tr th:only-of-type {\n",
       "        vertical-align: middle;\n",
       "    }\n",
       "\n",
       "    .dataframe tbody tr th {\n",
       "        vertical-align: top;\n",
       "    }\n",
       "\n",
       "    .dataframe thead th {\n",
       "        text-align: right;\n",
       "    }\n",
       "</style>\n",
       "<table border=\"1\" class=\"dataframe\">\n",
       "  <thead>\n",
       "    <tr style=\"text-align: right;\">\n",
       "      <th></th>\n",
       "      <th>StockCode</th>\n",
       "      <th>Corp</th>\n",
       "      <th>Indivisual</th>\n",
       "      <th>Foreign</th>\n",
       "    </tr>\n",
       "  </thead>\n",
       "  <tbody>\n",
       "    <tr>\n",
       "      <th>0</th>\n",
       "      <td>007720</td>\n",
       "      <td>0.000000e+00</td>\n",
       "      <td>-9.757474e+05</td>\n",
       "      <td>1.094108e+06</td>\n",
       "    </tr>\n",
       "    <tr>\n",
       "      <th>1</th>\n",
       "      <td>073560</td>\n",
       "      <td>9.616600e+03</td>\n",
       "      <td>1.837100e+07</td>\n",
       "      <td>-1.199318e+07</td>\n",
       "    </tr>\n",
       "    <tr>\n",
       "      <th>2</th>\n",
       "      <td>002450</td>\n",
       "      <td>2.169086e+05</td>\n",
       "      <td>5.859354e+07</td>\n",
       "      <td>-7.833359e+06</td>\n",
       "    </tr>\n",
       "    <tr>\n",
       "      <th>3</th>\n",
       "      <td>014190</td>\n",
       "      <td>-1.532665e+06</td>\n",
       "      <td>1.335390e+08</td>\n",
       "      <td>-1.240649e+08</td>\n",
       "    </tr>\n",
       "    <tr>\n",
       "      <th>4</th>\n",
       "      <td>067900</td>\n",
       "      <td>-8.134655e+08</td>\n",
       "      <td>4.914931e+08</td>\n",
       "      <td>3.020707e+08</td>\n",
       "    </tr>\n",
       "    <tr>\n",
       "      <th>5</th>\n",
       "      <td>035420</td>\n",
       "      <td>-9.221779e+09</td>\n",
       "      <td>-4.014346e+09</td>\n",
       "      <td>1.998966e+10</td>\n",
       "    </tr>\n",
       "    <tr>\n",
       "      <th>6</th>\n",
       "      <td>221980</td>\n",
       "      <td>8.207126e+06</td>\n",
       "      <td>6.536872e+06</td>\n",
       "      <td>-1.534404e+07</td>\n",
       "    </tr>\n",
       "    <tr>\n",
       "      <th>7</th>\n",
       "      <td>044780</td>\n",
       "      <td>9.390772e+06</td>\n",
       "      <td>3.882431e+06</td>\n",
       "      <td>-1.329676e+07</td>\n",
       "    </tr>\n",
       "  </tbody>\n",
       "</table>\n",
       "</div>"
      ],
      "text/plain": [
       "  StockCode          Corp    Indivisual       Foreign\n",
       "0    007720  0.000000e+00 -9.757474e+05  1.094108e+06\n",
       "1    073560  9.616600e+03  1.837100e+07 -1.199318e+07\n",
       "2    002450  2.169086e+05  5.859354e+07 -7.833359e+06\n",
       "3    014190 -1.532665e+06  1.335390e+08 -1.240649e+08\n",
       "4    067900 -8.134655e+08  4.914931e+08  3.020707e+08\n",
       "5    035420 -9.221779e+09 -4.014346e+09  1.998966e+10\n",
       "6    221980  8.207126e+06  6.536872e+06 -1.534404e+07\n",
       "7    044780  9.390772e+06  3.882431e+06 -1.329676e+07"
      ]
     },
     "execution_count": 34,
     "metadata": {},
     "output_type": "execute_result"
    }
   ],
   "source": [
    "trader_factor_df"
   ]
  },
  {
   "cell_type": "code",
   "execution_count": 33,
   "metadata": {},
   "outputs": [
    {
     "data": {
      "text/plain": [
       "set()"
      ]
     },
     "execution_count": 33,
     "metadata": {},
     "output_type": "execute_result"
    }
   ],
   "source": [
    "final_stockcodes"
   ]
  },
  {
   "cell_type": "code",
   "execution_count": null,
   "metadata": {},
   "outputs": [],
   "source": []
  }
 ],
 "metadata": {
  "kernelspec": {
   "display_name": "quant_trading",
   "language": "python",
   "name": "python3"
  },
  "language_info": {
   "codemirror_mode": {
    "name": "ipython",
    "version": 3
   },
   "file_extension": ".py",
   "mimetype": "text/x-python",
   "name": "python",
   "nbconvert_exporter": "python",
   "pygments_lexer": "ipython3",
   "version": "3.10.13"
  }
 },
 "nbformat": 4,
 "nbformat_minor": 2
}
