{
 "cells": [
  {
   "cell_type": "code",
   "execution_count": 1,
   "metadata": {},
   "outputs": [],
   "source": [
    "import datetime as dt\n",
    "import pandas as pd\n",
    "\n",
    "from de.processor.source.dart import DART_FUNDAMENTAL_PROCESSOR, DART_INFO_PROCESSOR\n",
    "from de.processor.source.krx import KRX_INFO_PROCESSOR\n",
    "from de.processor.source.fdr import FDR_INFO_PROCESSOR, FDR_OHLCV_PREPROCESSOR"
   ]
  },
  {
   "cell_type": "code",
   "execution_count": null,
   "metadata": {},
   "outputs": [],
   "source": []
  },
  {
   "cell_type": "code",
   "execution_count": 2,
   "metadata": {},
   "outputs": [],
   "source": [
    "# dart_fundamental\n",
    "dart_fundamental_df = pd.read_csv(\"./de/data/dart_fundamental_df.csv\", index_col=0)\n",
    "dart_fundamental_processor = DART_FUNDAMENTAL_PROCESSOR(dart_fundamental_df)"
   ]
  },
  {
   "cell_type": "code",
   "execution_count": 3,
   "metadata": {},
   "outputs": [],
   "source": [
    "# dart_info\n",
    "dart_info_df = pd.read_csv(\"./de/data/dart_info_df.csv\", index_col=0)\n",
    "dart_info_processor = DART_INFO_PROCESSOR(dart_info_df)"
   ]
  },
  {
   "cell_type": "code",
   "execution_count": 4,
   "metadata": {},
   "outputs": [],
   "source": [
    "# krx_info\n",
    "krx_info_df = pd.read_csv(\"./de/data/krx_info_df.csv\", index_col=0)\n",
    "krx_info_processor = KRX_INFO_PROCESSOR(krx_info_df)"
   ]
  },
  {
   "cell_type": "code",
   "execution_count": 5,
   "metadata": {},
   "outputs": [],
   "source": [
    "# fdr_info\n",
    "fdr_info_df = pd.read_csv(\"./de/data/fdr_info_df.csv\", index_col=0)\n",
    "fdr_info_processor = FDR_INFO_PROCESSOR(fdr_info_df)"
   ]
  },
  {
   "cell_type": "code",
   "execution_count": 6,
   "metadata": {},
   "outputs": [],
   "source": [
    "# fdr_ohlcv\n",
    "fdr_ohlcv_df = pd.read_csv(\"./de/data/fdr_ohlcv_df.csv\", index_col=0)\n",
    "fdr_ohlcv_preprocessor = FDR_OHLCV_PREPROCESSOR(fdr_ohlcv_df)\n",
    "ohlcv_df = fdr_ohlcv_preprocessor.get_pps_fdr_ohlcv_df()"
   ]
  },
  {
   "cell_type": "code",
   "execution_count": 7,
   "metadata": {},
   "outputs": [],
   "source": [
    "class STOCK_INFO_PROCESOR:\n",
    "    def __init__(\n",
    "        self, fdr_info_processor, krx_info_processor, dart_info_processor, dart_fundamental_processor, ohlcv_df\n",
    "    ):\n",
    "        self.fdr_info_processor = fdr_info_processor\n",
    "        self.krx_info_processor = krx_info_processor\n",
    "        self.dart_info_processor = dart_info_processor\n",
    "        self.dart_fundamental_processor = dart_fundamental_processor\n",
    "        self.ohlcv_df = ohlcv_df\n",
    "\n",
    "    @staticmethod\n",
    "    def append_StockName(df, fdr_info_processor):\n",
    "        df[\"StockName\"] = df[\"StockCode\"].map(fdr_info_processor.get_StockName_dict())\n",
    "        return df\n",
    "\n",
    "    @staticmethod\n",
    "    def append_MarketSector(df, krx_info_processor):\n",
    "        df[\"MarketSector\"] = df[\"StockCode\"].map(krx_info_processor.get_MarketSector_dict())\n",
    "        return df\n",
    "\n",
    "    @staticmethod\n",
    "    def append_Product(df, dart_info_processor):\n",
    "        df[\"Product\"] = df[\"StockCode\"].map(dart_info_processor.get_Product_dict())\n",
    "        return df\n",
    "\n",
    "    @staticmethod\n",
    "    def append_bps(df, dart_fundamental_processor, fdr_info_processor):\n",
    "        df[\"BPS\"] = (\n",
    "            df[\"StockCode\"].map(dart_fundamental_processor.get_TotalAssets_dict())\n",
    "            / df[\"StockCode\"].map(fdr_info_processor.get_Shares_dict())\n",
    "        ).astype(int)\n",
    "        return df\n",
    "\n",
    "    @staticmethod\n",
    "    def append_eps(df, dart_fundamental_processor, fdr_info_processor):\n",
    "        df[\"EPS\"] = (\n",
    "            df[\"StockCode\"].map(dart_fundamental_processor.get_NetProfit_dict())\n",
    "            / df[\"StockCode\"].map(fdr_info_processor.get_Shares_dict())\n",
    "        ).astype(int)\n",
    "        return df\n",
    "\n",
    "    @staticmethod\n",
    "    def append_price(df, ohlcv_df):\n",
    "        price_dict = ohlcv_df[ohlcv_df[\"Date\"] == ohlcv_df[\"Date\"].max()].set_index(\"StockCode\")[\"Close\"].to_dict()\n",
    "        df[\"Price\"] = df[\"StockCode\"].map(price_dict)\n",
    "        return df\n",
    "\n",
    "    def get_stock_info_df(self, stockcodes):\n",
    "        stock_info_df = pd.DataFrame(stockcodes, columns=[\"StockCode\"])\n",
    "        stock_info_df = self.append_StockName(stock_info_df, self.fdr_info_processor)\n",
    "        stock_info_df = self.append_MarketSector(stock_info_df, self.krx_info_processor)\n",
    "        stock_info_df = self.append_Product(stock_info_df, self.dart_info_processor)\n",
    "        stock_info_df = self.append_eps(stock_info_df, self.dart_fundamental_processor, self.fdr_info_processor)\n",
    "        stock_info_df = self.append_bps(stock_info_df, self.dart_fundamental_processor, self.fdr_info_processor)\n",
    "        stock_info_df = self.append_price(stock_info_df, self.ohlcv_df)\n",
    "        return stock_info_df"
   ]
  },
  {
   "cell_type": "code",
   "execution_count": 8,
   "metadata": {},
   "outputs": [],
   "source": [
    "stock_info_procesor = STOCK_INFO_PROCESOR(\n",
    "    fdr_info_processor, krx_info_processor, dart_info_processor, dart_fundamental_processor, ohlcv_df\n",
    ")"
   ]
  },
  {
   "cell_type": "code",
   "execution_count": 9,
   "metadata": {},
   "outputs": [
    {
     "data": {
      "text/html": [
       "<div>\n",
       "<style scoped>\n",
       "    .dataframe tbody tr th:only-of-type {\n",
       "        vertical-align: middle;\n",
       "    }\n",
       "\n",
       "    .dataframe tbody tr th {\n",
       "        vertical-align: top;\n",
       "    }\n",
       "\n",
       "    .dataframe thead th {\n",
       "        text-align: right;\n",
       "    }\n",
       "</style>\n",
       "<table border=\"1\" class=\"dataframe\">\n",
       "  <thead>\n",
       "    <tr style=\"text-align: right;\">\n",
       "      <th></th>\n",
       "      <th>StockCode</th>\n",
       "      <th>StockName</th>\n",
       "      <th>MarketSector</th>\n",
       "      <th>Product</th>\n",
       "      <th>EPS</th>\n",
       "      <th>BPS</th>\n",
       "      <th>Price</th>\n",
       "    </tr>\n",
       "  </thead>\n",
       "  <tbody>\n",
       "    <tr>\n",
       "      <th>0</th>\n",
       "      <td>066970</td>\n",
       "      <td>엘앤에프</td>\n",
       "      <td>KOSDAQ_일반전기전자</td>\n",
       "      <td>2차전지 양극활물질</td>\n",
       "      <td>1529</td>\n",
       "      <td>108461</td>\n",
       "      <td>176300</td>\n",
       "    </tr>\n",
       "    <tr>\n",
       "      <th>1</th>\n",
       "      <td>063170</td>\n",
       "      <td>서울옥션</td>\n",
       "      <td>KOSDAQ_유통</td>\n",
       "      <td>미술품경매</td>\n",
       "      <td>-119</td>\n",
       "      <td>10797</td>\n",
       "      <td>12930</td>\n",
       "    </tr>\n",
       "    <tr>\n",
       "      <th>2</th>\n",
       "      <td>047050</td>\n",
       "      <td>포스코인터내셔널</td>\n",
       "      <td>KOSPI_유통업</td>\n",
       "      <td>무역(철강,화학,자동차부품),수출주선,대행,알선,가공원단,폴리우레탄,자동차시트 제조</td>\n",
       "      <td>992</td>\n",
       "      <td>72989</td>\n",
       "      <td>57200</td>\n",
       "    </tr>\n",
       "    <tr>\n",
       "      <th>3</th>\n",
       "      <td>079810</td>\n",
       "      <td>디이엔티</td>\n",
       "      <td>KOSDAQ_기계·장비</td>\n",
       "      <td>FPD공정검사장비</td>\n",
       "      <td>30</td>\n",
       "      <td>9784</td>\n",
       "      <td>17650</td>\n",
       "    </tr>\n",
       "  </tbody>\n",
       "</table>\n",
       "</div>"
      ],
      "text/plain": [
       "  StockCode StockName   MarketSector  \\\n",
       "0    066970      엘앤에프  KOSDAQ_일반전기전자   \n",
       "1    063170      서울옥션      KOSDAQ_유통   \n",
       "2    047050  포스코인터내셔널      KOSPI_유통업   \n",
       "3    079810      디이엔티   KOSDAQ_기계·장비   \n",
       "\n",
       "                                          Product   EPS     BPS   Price  \n",
       "0                                      2차전지 양극활물질  1529  108461  176300  \n",
       "1                                           미술품경매  -119   10797   12930  \n",
       "2  무역(철강,화학,자동차부품),수출주선,대행,알선,가공원단,폴리우레탄,자동차시트 제조   992   72989   57200  \n",
       "3                                       FPD공정검사장비    30    9784   17650  "
      ]
     },
     "execution_count": 9,
     "metadata": {},
     "output_type": "execute_result"
    }
   ],
   "source": [
    "f_ma_stockcodes = {'047050', '063170', '066970', '079810'}\n",
    "f_ma_stock_info_df = stock_info_procesor.get_stock_info_df(stockcodes=f_ma_stockcodes)\n",
    "f_ma_stock_info_df"
   ]
  },
  {
   "cell_type": "code",
   "execution_count": 10,
   "metadata": {},
   "outputs": [
    {
     "data": {
      "text/html": [
       "<div>\n",
       "<style scoped>\n",
       "    .dataframe tbody tr th:only-of-type {\n",
       "        vertical-align: middle;\n",
       "    }\n",
       "\n",
       "    .dataframe tbody tr th {\n",
       "        vertical-align: top;\n",
       "    }\n",
       "\n",
       "    .dataframe thead th {\n",
       "        text-align: right;\n",
       "    }\n",
       "</style>\n",
       "<table border=\"1\" class=\"dataframe\">\n",
       "  <thead>\n",
       "    <tr style=\"text-align: right;\">\n",
       "      <th></th>\n",
       "      <th>StockCode</th>\n",
       "      <th>StockName</th>\n",
       "      <th>MarketSector</th>\n",
       "      <th>Product</th>\n",
       "      <th>EPS</th>\n",
       "      <th>BPS</th>\n",
       "      <th>Price</th>\n",
       "    </tr>\n",
       "  </thead>\n",
       "  <tbody>\n",
       "    <tr>\n",
       "      <th>0</th>\n",
       "      <td>298040</td>\n",
       "      <td>효성중공업</td>\n",
       "      <td>KOSPI_전기전자</td>\n",
       "      <td>-</td>\n",
       "      <td>3937</td>\n",
       "      <td>383583</td>\n",
       "      <td>210000</td>\n",
       "    </tr>\n",
       "    <tr>\n",
       "      <th>1</th>\n",
       "      <td>023960</td>\n",
       "      <td>에쓰씨엔지니어링</td>\n",
       "      <td>KOSPI_건설업</td>\n",
       "      <td>기술용역(건축설계) 서비스/화학플랜트 설비,기계 제작(음식료,석유화학사업관련)/유공...</td>\n",
       "      <td>-42</td>\n",
       "      <td>2620</td>\n",
       "      <td>1848</td>\n",
       "    </tr>\n",
       "  </tbody>\n",
       "</table>\n",
       "</div>"
      ],
      "text/plain": [
       "  StockCode StockName MarketSector  \\\n",
       "0    298040     효성중공업   KOSPI_전기전자   \n",
       "1    023960  에쓰씨엔지니어링    KOSPI_건설업   \n",
       "\n",
       "                                             Product   EPS     BPS   Price  \n",
       "0                                                  -  3937  383583  210000  \n",
       "1  기술용역(건축설계) 서비스/화학플랜트 설비,기계 제작(음식료,석유화학사업관련)/유공...   -42    2620    1848  "
      ]
     },
     "execution_count": 10,
     "metadata": {},
     "output_type": "execute_result"
    }
   ],
   "source": [
    "f_lc_stockcodes = {'023960', '298040'}\n",
    "f_lc_stock_info_df = stock_info_procesor.get_stock_info_df(stockcodes=f_lc_stockcodes)\n",
    "f_lc_stock_info_df"
   ]
  },
  {
   "cell_type": "code",
   "execution_count": null,
   "metadata": {},
   "outputs": [],
   "source": []
  }
 ],
 "metadata": {
  "kernelspec": {
   "display_name": "quant_trading",
   "language": "python",
   "name": "python3"
  },
  "language_info": {
   "codemirror_mode": {
    "name": "ipython",
    "version": 3
   },
   "file_extension": ".py",
   "mimetype": "text/x-python",
   "name": "python",
   "nbconvert_exporter": "python",
   "pygments_lexer": "ipython3",
   "version": "3.10.13"
  }
 },
 "nbformat": 4,
 "nbformat_minor": 2
}
