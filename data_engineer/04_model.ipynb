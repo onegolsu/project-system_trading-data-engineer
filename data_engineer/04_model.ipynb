{
 "cells": [
  {
   "cell_type": "code",
   "execution_count": 1,
   "metadata": {},
   "outputs": [],
   "source": [
    "import datetime as dt\n",
    "import pandas as pd\n",
    "\n",
    "from de.processor.source.dart import DART_FUNDAMENTAL_PROCESSOR, DART_INFO_PROCESSOR\n",
    "from de.processor.source.fdr import FDR_INFO_PROCESSOR, FDR_OHLCV_PREPROCESSOR\n",
    "\n",
    "from de.loader.api_loader.pykrx import get_pykrx_loader\n",
    "\n",
    "from de.processor.factor.processor import (\n",
    "    FUNDAMENTAL_FACTOR_PROCESSOR,\n",
    "    MOVING_AVERAGE_FACTOR_PROCESSOR,\n",
    "    LINEAR_COEF_FACTOR_PROCESSOR,\n",
    "    TRADER_FACTOR_PROCESSOR\n",
    ")\n",
    "\n",
    "from de.processor.factor.filter import FACTOR_FILTER"
   ]
  },
  {
   "cell_type": "code",
   "execution_count": 2,
   "metadata": {},
   "outputs": [],
   "source": [
    "CFG = {\n",
    "    \"FUNDAMENTAL\": {\n",
    "        \"PROCESSOR\": {\n",
    "            \"ohlcv_recent_n\": 10,\n",
    "        },\n",
    "        \"FILTER\": {\n",
    "            \"quantile_conditions\": [\n",
    "                (\"CLR\", 0.0, 1.0),\n",
    "                (\"TLR\", 0.1, 0.7),\n",
    "                (\"NPP\", 0.3, 0.8),\n",
    "                (\"OPP\", 0.3, 0.7),\n",
    "                (\"TAPP\", 0.0, 0.5),\n",
    "                (\"TEPP\", 0.0, 0.5),\n",
    "                (\"CAPP\", 0.0, 0.4),\n",
    "                (\"CEPP\", 0.1, 0.5),\n",
    "            ]\n",
    "        },\n",
    "    },\n",
    "    \"MOVING_AVERAGE\": {\n",
    "        \"PROCESSOR\": {\n",
    "            \"factors\": [\"Close\", \"VolumeRotation\"],\n",
    "            \"short_term_window\": round((7 * 2) * (5 / 7)),\n",
    "            \"long_term_window\": round((7 * 8) * (5 / 7)),\n",
    "            \"signal_recent_n\": 20,\n",
    "        },\n",
    "        \"FILTER\": {\n",
    "            \"quantile_conditions\": [\n",
    "                (\"Close\", 0.6, 0.9),\n",
    "                (\"VolumeRotation\", 0.0, 0.3),\n",
    "            ]\n",
    "        },\n",
    "    },\n",
    "    \"LINEAR_COEF\": {\n",
    "        \"PROCESSOR\": {\n",
    "            \"factors\": [\"Close\", \"VolumeRotation\"],\n",
    "            \"moving_average_window\": 10,\n",
    "            \"coef_recent_n\": 20,\n",
    "        },\n",
    "        \"FILTER\": {\n",
    "            \"quantile_conditions\": [\n",
    "                (\"VolumeRotation\", 0.4, 0.7),\n",
    "                (\"Close\", 0.0, 0.3),\n",
    "            ],\n",
    "        },\n",
    "    },\n",
    "    \"TRADER\": {\n",
    "        \"PROCESSOR\": {\n",
    "            \"start\": (dt.date.today() - dt.timedelta(days=7)).strftime(\"%Y-%m-%d\"),\n",
    "            \"end\": (dt.date.today() - dt.timedelta(days=1)).strftime(\"%Y-%m-%d\"),\n",
    "            # \"end\": dt.date.today().strftime(\"%Y-%m-%d\"),\n",
    "        },\n",
    "        \"FILTER\": {\n",
    "            \"absolute_conditions\": [\n",
    "                \"Corp > 0\",\n",
    "                \"Foreign > 0\",\n",
    "                \"Indivisual < 0\",\n",
    "            ]\n",
    "        },\n",
    "    },\n",
    "}"
   ]
  },
  {
   "cell_type": "code",
   "execution_count": 3,
   "metadata": {},
   "outputs": [],
   "source": [
    "# Load"
   ]
  },
  {
   "cell_type": "code",
   "execution_count": 4,
   "metadata": {},
   "outputs": [],
   "source": [
    "# dart_fundamental\n",
    "dart_fundamental_df = pd.read_csv(\"./de/data/dart_fundamental_df.csv\", index_col=0)\n",
    "dart_fundamental_processor = DART_FUNDAMENTAL_PROCESSOR(dart_fundamental_df)"
   ]
  },
  {
   "cell_type": "code",
   "execution_count": 5,
   "metadata": {},
   "outputs": [],
   "source": [
    "# fdr_info\n",
    "fdr_info_df = pd.read_csv(\"./de/data/fdr_info_df.csv\", index_col=0)\n",
    "fdr_info_processor = FDR_INFO_PROCESSOR(fdr_info_df)"
   ]
  },
  {
   "cell_type": "code",
   "execution_count": 7,
   "metadata": {},
   "outputs": [],
   "source": [
    "# fdr_ohlcv\n",
    "fdr_ohlcv_df = pd.read_csv(\"./de/data/fdr_ohlcv_df.csv\", index_col=0)\n",
    "fdr_ohlcv_preprocessor = FDR_OHLCV_PREPROCESSOR(fdr_ohlcv_df)\n",
    "ohlcv_df = fdr_ohlcv_preprocessor.get_pps_fdr_ohlcv_df()"
   ]
  },
  {
   "cell_type": "code",
   "execution_count": 9,
   "metadata": {},
   "outputs": [],
   "source": [
    "# Fundamental\n",
    "fundamental_factor_processor = FUNDAMENTAL_FACTOR_PROCESSOR(ohlcv_df, dart_fundamental_processor, fdr_info_processor)\n",
    "fundamental_factor_df = fundamental_factor_processor.get_factor_df(CFG[\"FUNDAMENTAL\"][\"PROCESSOR\"])\n",
    "\n",
    "factor_filter = FACTOR_FILTER(fundamental_factor_df)\n",
    "f_stockcodes = factor_filter.get_filtered_stockcodes(CFG[\"FUNDAMENTAL\"][\"FILTER\"])"
   ]
  },
  {
   "cell_type": "code",
   "execution_count": 10,
   "metadata": {},
   "outputs": [],
   "source": [
    "# Technical\n",
    "## Moving Average\n",
    "moving_average_factor_processor = MOVING_AVERAGE_FACTOR_PROCESSOR(ohlcv_df, fdr_info_processor)\n",
    "moving_average_factors_df = moving_average_factor_processor.get_factor_df(\n",
    "    CFG[\"MOVING_AVERAGE\"][\"PROCESSOR\"]\n",
    ")\n",
    "\n",
    "factor_filter = FACTOR_FILTER(moving_average_factors_df)\n",
    "f_ma_stockcodes = factor_filter.get_filtered_stockcodes(\n",
    "    CFG[\"MOVING_AVERAGE\"][\"FILTER\"], f_stockcodes\n",
    ")"
   ]
  },
  {
   "cell_type": "code",
   "execution_count": 11,
   "metadata": {},
   "outputs": [],
   "source": [
    "# Technical\n",
    "## Linear Coef\n",
    "linear_coef_factor_processor = LINEAR_COEF_FACTOR_PROCESSOR(ohlcv_df, fdr_info_processor)\n",
    "linear_coef_factors_df = linear_coef_factor_processor.get_factor_df(\n",
    "    CFG[\"LINEAR_COEF\"][\"PROCESSOR\"]\n",
    ")\n",
    "\n",
    "factor_filter = FACTOR_FILTER(linear_coef_factors_df)\n",
    "f_lc_stockcodes = factor_filter.get_filtered_stockcodes(CFG[\"LINEAR_COEF\"][\"FILTER\"], f_stockcodes)"
   ]
  },
  {
   "cell_type": "code",
   "execution_count": 15,
   "metadata": {},
   "outputs": [],
   "source": [
    "# Trader\n",
    "pykrx_loader = get_pykrx_loader()\n",
    "\n",
    "trader_factor_processor = TRADER_FACTOR_PROCESSOR(pykrx_loader)\n",
    "\n",
    "## Fundamental - Linear Coef - Trader\n",
    "trader_factor_df = trader_factor_processor.get_factor_df(f_lc_stockcodes, CFG[\"TRADER\"][\"PROCESSOR\"])\n",
    "factor_filter = FACTOR_FILTER(trader_factor_df)\n",
    "f_lc_t_stockcodes = factor_filter.get_filtered_stockcodes(CFG[\"TRADER\"][\"FILTER\"], f_lc_stockcodes)\n",
    "\n",
    "## Fundamental - Moving Avergae - Trader\n",
    "trader_factor_df = trader_factor_processor.get_factor_df(f_ma_stockcodes, CFG[\"TRADER\"][\"PROCESSOR\"])\n",
    "factor_filter = FACTOR_FILTER(trader_factor_df)\n",
    "f_ma_t_stockcodes = factor_filter.get_filtered_stockcodes(CFG[\"TRADER\"][\"FILTER\"], f_ma_stockcodes)"
   ]
  },
  {
   "cell_type": "code",
   "execution_count": 16,
   "metadata": {},
   "outputs": [
    {
     "data": {
      "text/plain": [
       "{'051390', '058850'}"
      ]
     },
     "execution_count": 16,
     "metadata": {},
     "output_type": "execute_result"
    }
   ],
   "source": [
    "f_lc_t_stockcodes"
   ]
  },
  {
   "cell_type": "code",
   "execution_count": 17,
   "metadata": {},
   "outputs": [
    {
     "data": {
      "text/plain": [
       "{'016380'}"
      ]
     },
     "execution_count": 17,
     "metadata": {},
     "output_type": "execute_result"
    }
   ],
   "source": [
    "f_ma_t_stockcodes"
   ]
  }
 ],
 "metadata": {
  "kernelspec": {
   "display_name": "quant_trading",
   "language": "python",
   "name": "python3"
  },
  "language_info": {
   "codemirror_mode": {
    "name": "ipython",
    "version": 3
   },
   "file_extension": ".py",
   "mimetype": "text/x-python",
   "name": "python",
   "nbconvert_exporter": "python",
   "pygments_lexer": "ipython3",
   "version": "3.10.13"
  }
 },
 "nbformat": 4,
 "nbformat_minor": 2
}
