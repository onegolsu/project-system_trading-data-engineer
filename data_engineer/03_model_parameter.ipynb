{
 "cells": [
  {
   "cell_type": "code",
   "execution_count": 1,
   "metadata": {},
   "outputs": [],
   "source": [
    "import datetime as dt\n",
    "import pandas as pd\n",
    "\n",
    "from de.processor.source.dart import DART_FUNDAMENTAL_PROCESSOR\n",
    "from de.processor.source.fdr import FDR_INFO_PROCESSOR, FDR_OHLCV_PREPROCESSOR\n",
    "\n",
    "from de.processor.factor.processor import (\n",
    "    FUNDAMENTAL_FACTOR_PROCESSOR,\n",
    "    MOVING_AVERAGE_FACTOR_PROCESSOR,\n",
    "    LINEAR_COEF_FACTOR_PROCESSOR,\n",
    ")\n",
    "\n",
    "from de.processor.factor.analyser import FACTOR_ANALYSER\n",
    "from de.model_parameter import MODEL_PARAMTER_PROCESSOR"
   ]
  },
  {
   "cell_type": "code",
   "execution_count": 2,
   "metadata": {},
   "outputs": [],
   "source": [
    "CFG = {\n",
    "    \"FUNDAMENTAL\": {\n",
    "        \"PROCESSOR\": {\n",
    "            \"ohlcv_recent_n\": 10,\n",
    "        },\n",
    "    },\n",
    "    \"LINEAR_COEF\": {\n",
    "        \"PROCESSOR\": {\n",
    "            \"factors\": [\"Close\", \"VolumeRotation\"],\n",
    "            \"moving_average_window\": 10,\n",
    "            \"coef_recent_n\": 20,\n",
    "        }\n",
    "    },\n",
    "    \"MOVING_AVERAGE\": {\n",
    "        \"PROCESSOR\": {\n",
    "            \"factors\": [\"Close\", \"VolumeRotation\"],\n",
    "            \"short_term_window\": round((7 * 2) * (5 / 7)),\n",
    "            \"long_term_window\": round((7 * 8) * (5 / 7)),\n",
    "            \"signal_recent_n\": 20,\n",
    "        }\n",
    "    },\n",
    "    \"FACTOR_ANALYSIS\": {\n",
    "        \"profit_recent_n\": 20,\n",
    "    },\n",
    "}\n",
    "recen_n = CFG[\"FACTOR_ANALYSIS\"][\"profit_recent_n\"]\n",
    "analysis_date = (dt.date.today() - dt.timedelta(days=recen_n)).strftime(\"%Y-%m-%d\")\n",
    "CFG[\"analysis_date\"] = analysis_date"
   ]
  },
  {
   "cell_type": "code",
   "execution_count": 3,
   "metadata": {},
   "outputs": [],
   "source": [
    "# Loader"
   ]
  },
  {
   "cell_type": "code",
   "execution_count": 4,
   "metadata": {},
   "outputs": [],
   "source": [
    "## dart_fundamental\n",
    "dart_fundamental_df = pd.read_csv(\"./de/data/dart_fundamental_df.csv\", index_col=0)\n",
    "dart_fundamental_processor = DART_FUNDAMENTAL_PROCESSOR(dart_fundamental_df)"
   ]
  },
  {
   "cell_type": "code",
   "execution_count": 5,
   "metadata": {},
   "outputs": [],
   "source": [
    "## fdr_info\n",
    "fdr_info_df = pd.read_csv(\"./de/data/fdr_info_df.csv\", index_col=0)\n",
    "fdr_info_processor = FDR_INFO_PROCESSOR(fdr_info_df)"
   ]
  },
  {
   "cell_type": "code",
   "execution_count": 6,
   "metadata": {},
   "outputs": [],
   "source": [
    "## fdr_ohlcv\n",
    "fdr_ohlcv_df = pd.read_csv(\"./de/data/fdr_ohlcv_df.csv\", index_col=0)\n",
    "fdr_ohlcv_preprocessor = FDR_OHLCV_PREPROCESSOR(fdr_ohlcv_df)\n",
    "fdr_ohlcv_df = fdr_ohlcv_preprocessor.get_pps_fdr_ohlcv_df()\n",
    "\n",
    "# split ohlcv\n",
    "future_ohlcv_df = fdr_ohlcv_df[CFG[\"analysis_date\"] < fdr_ohlcv_df[\"Date\"]].copy()\n",
    "past_ohlcv_df = fdr_ohlcv_df[fdr_ohlcv_df[\"Date\"] < CFG[\"analysis_date\"]].copy()"
   ]
  },
  {
   "cell_type": "code",
   "execution_count": null,
   "metadata": {},
   "outputs": [],
   "source": []
  },
  {
   "cell_type": "code",
   "execution_count": 7,
   "metadata": {},
   "outputs": [],
   "source": [
    "# Parameter\n",
    "model_paramter_processor = MODEL_PARAMTER_PROCESSOR(CFG[\"FACTOR_ANALYSIS\"])"
   ]
  },
  {
   "cell_type": "code",
   "execution_count": null,
   "metadata": {},
   "outputs": [],
   "source": []
  },
  {
   "cell_type": "code",
   "execution_count": 8,
   "metadata": {},
   "outputs": [
    {
     "data": {
      "text/html": [
       "<div>\n",
       "<style scoped>\n",
       "    .dataframe tbody tr th:only-of-type {\n",
       "        vertical-align: middle;\n",
       "    }\n",
       "\n",
       "    .dataframe tbody tr th {\n",
       "        vertical-align: top;\n",
       "    }\n",
       "\n",
       "    .dataframe thead th {\n",
       "        text-align: right;\n",
       "    }\n",
       "</style>\n",
       "<table border=\"1\" class=\"dataframe\">\n",
       "  <thead>\n",
       "    <tr style=\"text-align: right;\">\n",
       "      <th></th>\n",
       "      <th>Value</th>\n",
       "      <th>Variance</th>\n",
       "    </tr>\n",
       "  </thead>\n",
       "  <tbody>\n",
       "    <tr>\n",
       "      <th>((TEPP, 0.5, 0.8), (NPP, 0.3, 0.6))</th>\n",
       "      <td>0.076728</td>\n",
       "      <td>0.002012</td>\n",
       "    </tr>\n",
       "    <tr>\n",
       "      <th>((TAPP, 0.7, 1.0), (CLR, 0.4, 0.7))</th>\n",
       "      <td>0.077017</td>\n",
       "      <td>0.002106</td>\n",
       "    </tr>\n",
       "    <tr>\n",
       "      <th>((CAPP, 0.5, 0.8), (CLR, 0.2, 0.5))</th>\n",
       "      <td>0.077718</td>\n",
       "      <td>0.004195</td>\n",
       "    </tr>\n",
       "    <tr>\n",
       "      <th>((TLR, 0.6, 0.9), (CLR, 0.0, 0.3))</th>\n",
       "      <td>0.091851</td>\n",
       "      <td>0.015207</td>\n",
       "    </tr>\n",
       "    <tr>\n",
       "      <th>((TLR, 0.5, 0.8), (CLR, 0.0, 0.3))</th>\n",
       "      <td>0.098374</td>\n",
       "      <td>0.015595</td>\n",
       "    </tr>\n",
       "  </tbody>\n",
       "</table>\n",
       "</div>"
      ],
      "text/plain": [
       "                                        Value  Variance\n",
       "((TEPP, 0.5, 0.8), (NPP, 0.3, 0.6))  0.076728  0.002012\n",
       "((TAPP, 0.7, 1.0), (CLR, 0.4, 0.7))  0.077017  0.002106\n",
       "((CAPP, 0.5, 0.8), (CLR, 0.2, 0.5))  0.077718  0.004195\n",
       "((TLR, 0.6, 0.9), (CLR, 0.0, 0.3))   0.091851  0.015207\n",
       "((TLR, 0.5, 0.8), (CLR, 0.0, 0.3))   0.098374  0.015595"
      ]
     },
     "execution_count": 8,
     "metadata": {},
     "output_type": "execute_result"
    }
   ],
   "source": [
    "# Fundamental\n",
    "\n",
    "# fundamental_factors_df\n",
    "fundamental_factor_processor = FUNDAMENTAL_FACTOR_PROCESSOR(\n",
    "    past_ohlcv_df, dart_fundamental_processor, fdr_info_processor\n",
    ")\n",
    "fundamental_factors_df = fundamental_factor_processor.get_factor_df(CFG[\"FUNDAMENTAL\"][\"PROCESSOR\"])\n",
    "\n",
    "# analyser\n",
    "fundamental_factor_analyser = FACTOR_ANALYSER(fundamental_factors_df)\n",
    "\n",
    "fundamental_params_dict = model_paramter_processor.get_params_dict(future_ohlcv_df, fundamental_factor_analyser)\n",
    "fundamental_params_df = pd.DataFrame().from_dict(fundamental_params_dict, orient=\"index\", columns=[\"Value\", \"Variance\"])\n",
    "fundamental_params_df.nlargest(10, \"Value\").nsmallest(5, \"Variance\")"
   ]
  },
  {
   "cell_type": "code",
   "execution_count": 9,
   "metadata": {},
   "outputs": [
    {
     "data": {
      "text/html": [
       "<div>\n",
       "<style scoped>\n",
       "    .dataframe tbody tr th:only-of-type {\n",
       "        vertical-align: middle;\n",
       "    }\n",
       "\n",
       "    .dataframe tbody tr th {\n",
       "        vertical-align: top;\n",
       "    }\n",
       "\n",
       "    .dataframe thead th {\n",
       "        text-align: right;\n",
       "    }\n",
       "</style>\n",
       "<table border=\"1\" class=\"dataframe\">\n",
       "  <thead>\n",
       "    <tr style=\"text-align: right;\">\n",
       "      <th></th>\n",
       "      <th>Value</th>\n",
       "      <th>Variance</th>\n",
       "    </tr>\n",
       "  </thead>\n",
       "  <tbody>\n",
       "    <tr>\n",
       "      <th>((VolumeRotation, 0.6, 0.9), (Close, 0.0, 0.3))</th>\n",
       "      <td>0.082217</td>\n",
       "      <td>0.001013</td>\n",
       "    </tr>\n",
       "    <tr>\n",
       "      <th>((VolumeRotation, 0.4, 0.7), (Close, 0.0, 0.3))</th>\n",
       "      <td>0.082993</td>\n",
       "      <td>0.001052</td>\n",
       "    </tr>\n",
       "    <tr>\n",
       "      <th>((VolumeRotation, 0.6, 0.9), (Close, 0.1, 0.4))</th>\n",
       "      <td>0.086338</td>\n",
       "      <td>0.001104</td>\n",
       "    </tr>\n",
       "    <tr>\n",
       "      <th>((VolumeRotation, 0.5, 0.8), (Close, 0.0, 0.3))</th>\n",
       "      <td>0.086835</td>\n",
       "      <td>0.001258</td>\n",
       "    </tr>\n",
       "    <tr>\n",
       "      <th>((VolumeRotation, 0.7, 1.0), (Close, 0.0, 0.3))</th>\n",
       "      <td>0.088703</td>\n",
       "      <td>0.004183</td>\n",
       "    </tr>\n",
       "  </tbody>\n",
       "</table>\n",
       "</div>"
      ],
      "text/plain": [
       "                                                    Value  Variance\n",
       "((VolumeRotation, 0.6, 0.9), (Close, 0.0, 0.3))  0.082217  0.001013\n",
       "((VolumeRotation, 0.4, 0.7), (Close, 0.0, 0.3))  0.082993  0.001052\n",
       "((VolumeRotation, 0.6, 0.9), (Close, 0.1, 0.4))  0.086338  0.001104\n",
       "((VolumeRotation, 0.5, 0.8), (Close, 0.0, 0.3))  0.086835  0.001258\n",
       "((VolumeRotation, 0.7, 1.0), (Close, 0.0, 0.3))  0.088703  0.004183"
      ]
     },
     "execution_count": 9,
     "metadata": {},
     "output_type": "execute_result"
    }
   ],
   "source": [
    "# Technical\n",
    "\n",
    "# linear_coef_factors_df\n",
    "linear_coef_factor_processor = LINEAR_COEF_FACTOR_PROCESSOR(past_ohlcv_df, fdr_info_processor)\n",
    "linear_coef_factors_df = linear_coef_factor_processor.get_factor_df(CFG[\"LINEAR_COEF\"][\"PROCESSOR\"])\n",
    "\n",
    "# Analysis\n",
    "linear_coef_factor_analyser = FACTOR_ANALYSER(linear_coef_factors_df)\n",
    "\n",
    "linear_coef_params_dict = model_paramter_processor.get_params_dict(future_ohlcv_df, linear_coef_factor_analyser)\n",
    "linear_coef_params_df = pd.DataFrame().from_dict(linear_coef_params_dict, orient=\"index\", columns=[\"Value\", \"Variance\"])\n",
    "linear_coef_params_df.nlargest(10, \"Value\").nsmallest(5, \"Variance\")"
   ]
  },
  {
   "cell_type": "code",
   "execution_count": 10,
   "metadata": {},
   "outputs": [
    {
     "data": {
      "text/html": [
       "<div>\n",
       "<style scoped>\n",
       "    .dataframe tbody tr th:only-of-type {\n",
       "        vertical-align: middle;\n",
       "    }\n",
       "\n",
       "    .dataframe tbody tr th {\n",
       "        vertical-align: top;\n",
       "    }\n",
       "\n",
       "    .dataframe thead th {\n",
       "        text-align: right;\n",
       "    }\n",
       "</style>\n",
       "<table border=\"1\" class=\"dataframe\">\n",
       "  <thead>\n",
       "    <tr style=\"text-align: right;\">\n",
       "      <th></th>\n",
       "      <th>Value</th>\n",
       "      <th>Variance</th>\n",
       "    </tr>\n",
       "  </thead>\n",
       "  <tbody>\n",
       "    <tr>\n",
       "      <th>((VolumeRotation, 0.0, 0.3), (Close, 0.0, 0.3))</th>\n",
       "      <td>0.074011</td>\n",
       "      <td>0.000965</td>\n",
       "    </tr>\n",
       "    <tr>\n",
       "      <th>((VolumeRotation, 0.3, 0.6), (Close, 0.1, 0.4))</th>\n",
       "      <td>0.077013</td>\n",
       "      <td>0.000971</td>\n",
       "    </tr>\n",
       "    <tr>\n",
       "      <th>((VolumeRotation, 0.4, 0.7), (Close, 0.0, 0.3))</th>\n",
       "      <td>0.078751</td>\n",
       "      <td>0.000977</td>\n",
       "    </tr>\n",
       "    <tr>\n",
       "      <th>((VolumeRotation, 0.1, 0.4), (Close, 0.1, 0.4))</th>\n",
       "      <td>0.078810</td>\n",
       "      <td>0.000989</td>\n",
       "    </tr>\n",
       "    <tr>\n",
       "      <th>((VolumeRotation, 0.1, 0.4), (Close, 0.0, 0.3))</th>\n",
       "      <td>0.080033</td>\n",
       "      <td>0.001074</td>\n",
       "    </tr>\n",
       "  </tbody>\n",
       "</table>\n",
       "</div>"
      ],
      "text/plain": [
       "                                                    Value  Variance\n",
       "((VolumeRotation, 0.0, 0.3), (Close, 0.0, 0.3))  0.074011  0.000965\n",
       "((VolumeRotation, 0.3, 0.6), (Close, 0.1, 0.4))  0.077013  0.000971\n",
       "((VolumeRotation, 0.4, 0.7), (Close, 0.0, 0.3))  0.078751  0.000977\n",
       "((VolumeRotation, 0.1, 0.4), (Close, 0.1, 0.4))  0.078810  0.000989\n",
       "((VolumeRotation, 0.1, 0.4), (Close, 0.0, 0.3))  0.080033  0.001074"
      ]
     },
     "execution_count": 10,
     "metadata": {},
     "output_type": "execute_result"
    }
   ],
   "source": [
    "# Technical\n",
    "\n",
    "# moving_average_factors_df\n",
    "moving_average_factor_processor = MOVING_AVERAGE_FACTOR_PROCESSOR(past_ohlcv_df, fdr_info_processor)\n",
    "moving_average_factors_df = moving_average_factor_processor.get_factor_df(\n",
    "    CFG[\"MOVING_AVERAGE\"][\"PROCESSOR\"]\n",
    ")\n",
    "\n",
    "# Analysis\n",
    "moving_average_factor_analyser = FACTOR_ANALYSER(moving_average_factors_df)\n",
    "\n",
    "moving_average_params_dict = model_paramter_processor.get_params_dict(future_ohlcv_df, moving_average_factor_analyser)\n",
    "moving_average_params_df = pd.DataFrame().from_dict(moving_average_params_dict, orient=\"index\", columns=[\"Value\", \"Variance\"])\n",
    "moving_average_params_df.nlargest(10, \"Value\").nsmallest(5, \"Variance\")"
   ]
  }
 ],
 "metadata": {
  "kernelspec": {
   "display_name": "quant_trading",
   "language": "python",
   "name": "python3"
  },
  "language_info": {
   "codemirror_mode": {
    "name": "ipython",
    "version": 3
   },
   "file_extension": ".py",
   "mimetype": "text/x-python",
   "name": "python",
   "nbconvert_exporter": "python",
   "pygments_lexer": "ipython3",
   "version": "3.10.13"
  }
 },
 "nbformat": 4,
 "nbformat_minor": 2
}
