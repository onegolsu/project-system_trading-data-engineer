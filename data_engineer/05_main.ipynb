{
 "cells": [
  {
   "cell_type": "code",
   "execution_count": 17,
   "metadata": {},
   "outputs": [],
   "source": [
    "# Model with Model_Params"
   ]
  },
  {
   "cell_type": "code",
   "execution_count": 18,
   "metadata": {},
   "outputs": [],
   "source": [
    "import datetime as dt\n",
    "import pandas as pd\n",
    "\n",
    "from de.processor.source.dart import DART_FUNDAMENTAL_PROCESSOR\n",
    "from de.processor.source.fdr import FDR_INFO_PROCESSOR, FDR_OHLCV_PREPROCESSOR\n",
    "from de.loader.api_loader.pykrx import get_pykrx_loader\n",
    "\n",
    "from de.processor.factor.processor import (\n",
    "    FUNDAMENTAL_FACTOR_PROCESSOR,\n",
    "    MOVING_AVERAGE_FACTOR_PROCESSOR,\n",
    "    LINEAR_COEF_FACTOR_PROCESSOR,\n",
    "    TRADER_FACTOR_PROCESSOR,\n",
    ")\n",
    "\n",
    "from de.model_parameter import MODEL_PARAMTER_PROCESSOR\n",
    "\n",
    "from de.processor.factor.analyser import FACTOR_ANALYSER\n",
    "from de.processor.factor.filter import FACTOR_FILTER"
   ]
  },
  {
   "cell_type": "code",
   "execution_count": 19,
   "metadata": {},
   "outputs": [],
   "source": [
    "CFG = {\n",
    "    \"FUNDAMENTAL\": {\n",
    "        \"PROCESSOR\": {\n",
    "            \"ohlcv_recent_n\": 10,\n",
    "        },\n",
    "        \"FILTER\": {},\n",
    "    },\n",
    "    \"MOVING_AVERAGE\": {\n",
    "        \"PROCESSOR\": {\n",
    "            \"factors\": [\"Close\", \"VolumeRotation\"],\n",
    "            \"short_term_window\": round((7 * 2) * (5 / 7)),\n",
    "            \"long_term_window\": round((7 * 8) * (5 / 7)),\n",
    "            \"signal_recent_n\": 20,\n",
    "        },\n",
    "        \"FILTER\": {},\n",
    "    },\n",
    "    \"LINEAR_COEF\": {\n",
    "        \"PROCESSOR\": {\n",
    "            \"factors\": [\"Close\", \"VolumeRotation\"],\n",
    "            \"moving_average_window\": 10,\n",
    "            \"coef_recent_n\": 20,\n",
    "        },\n",
    "        \"FILTER\": {},\n",
    "    },\n",
    "    \"TRADER\": {\n",
    "        \"PROCESSOR\": {\n",
    "            \"start\": (dt.date.today() - dt.timedelta(days=9)).strftime(\"%Y-%m-%d\"),\n",
    "            \"end\": (dt.date.today() - dt.timedelta(days=1)).strftime(\"%Y-%m-%d\"),\n",
    "            # \"end\": dt.date.today().strftime(\"%Y-%m-%d\"),\n",
    "        },\n",
    "        \"FILTER\": {\n",
    "            \"absolute_conditions\": [\n",
    "                \"Corp > 0\",\n",
    "                \"Foreign > 0\",\n",
    "                \"Indivisual < 0\",\n",
    "            ]\n",
    "        },\n",
    "    },\n",
    "    \"FACTOR_ANALYSIS\": {\n",
    "        \"profit_recent_n\": 5,\n",
    "    },\n",
    "}\n",
    "recen_n = CFG[\"FACTOR_ANALYSIS\"][\"profit_recent_n\"]\n",
    "analysis_date = (dt.date.today() - dt.timedelta(days=recen_n)).strftime(\"%Y-%m-%d\")\n",
    "CFG[\"analysis_date\"] = analysis_date"
   ]
  },
  {
   "cell_type": "code",
   "execution_count": 20,
   "metadata": {},
   "outputs": [],
   "source": [
    "# LOAD\n",
    "# dart_fundamental\n",
    "dart_fundamental_df = pd.read_csv(\"./de/data/dart_fundamental_df.csv\", index_col=0)\n",
    "dart_fundamental_processor = DART_FUNDAMENTAL_PROCESSOR(dart_fundamental_df)"
   ]
  },
  {
   "cell_type": "code",
   "execution_count": 21,
   "metadata": {},
   "outputs": [],
   "source": [
    "# fdr_info\n",
    "fdr_info_df = pd.read_csv(\"./de/data/fdr_info_df.csv\", index_col=0)\n",
    "fdr_info_processor = FDR_INFO_PROCESSOR(fdr_info_df)"
   ]
  },
  {
   "cell_type": "code",
   "execution_count": 22,
   "metadata": {},
   "outputs": [],
   "source": [
    "# fdr_ohlcv\n",
    "fdr_ohlcv_df = pd.read_csv(\"./de/data/fdr_ohlcv_df.csv\", index_col=0)\n",
    "fdr_ohlcv_preprocessor = FDR_OHLCV_PREPROCESSOR(fdr_ohlcv_df)\n",
    "ohlcv_df = fdr_ohlcv_preprocessor.get_pps_fdr_ohlcv_df()\n",
    "\n",
    "# split ohlcv\n",
    "future_ohlcv_df = ohlcv_df[CFG[\"analysis_date\"] < ohlcv_df[\"Date\"]].copy()\n",
    "past_ohlcv_df = ohlcv_df[ohlcv_df[\"Date\"] < CFG[\"analysis_date\"]].copy()"
   ]
  },
  {
   "cell_type": "code",
   "execution_count": null,
   "metadata": {},
   "outputs": [],
   "source": []
  },
  {
   "cell_type": "code",
   "execution_count": 23,
   "metadata": {},
   "outputs": [],
   "source": [
    "model_paramter_processor = MODEL_PARAMTER_PROCESSOR(CFG[\"FACTOR_ANALYSIS\"])"
   ]
  },
  {
   "cell_type": "code",
   "execution_count": 24,
   "metadata": {},
   "outputs": [],
   "source": [
    "# Fundamental\n",
    "\n",
    "## Parameter\n",
    "### 1. Get Factor_df\n",
    "fundamental_factor_processor = FUNDAMENTAL_FACTOR_PROCESSOR(\n",
    "    past_ohlcv_df, dart_fundamental_processor, fdr_info_processor\n",
    ")\n",
    "fundamental_factors_df = fundamental_factor_processor.get_factor_df(CFG[\"FUNDAMENTAL\"][\"PROCESSOR\"])\n",
    "\n",
    "### 2. Get Parameter\n",
    "fundamental_factor_analyser = FACTOR_ANALYSER(fundamental_factors_df)\n",
    "fundamental_params_dict = model_paramter_processor.get_params_dict(future_ohlcv_df, fundamental_factor_analyser)\n",
    "fundamental_param_df = pd.DataFrame().from_dict(fundamental_params_dict, orient=\"index\", columns=[\"Value\", \"Variance\"])\n",
    "\n",
    "### 3. Set Paramter\n",
    "fundamental_params = fundamental_param_df.nlargest(6, \"Value\").nsmallest(3, \"Variance\").index\n",
    "\n",
    "f_stockcodes_list = list()\n",
    "for fundamental_param in fundamental_params:\n",
    "    CFG[\"FUNDAMENTAL\"][\"FILTER\"][\"quantile_conditions\"] = fundamental_param\n",
    "\n",
    "    ## Model\n",
    "    ### 1. Get Factor_df\n",
    "    fundamental_factor_processor = FUNDAMENTAL_FACTOR_PROCESSOR(\n",
    "        ohlcv_df, dart_fundamental_processor, fdr_info_processor\n",
    "    )\n",
    "    fundamental_factor_df = fundamental_factor_processor.get_factor_df(CFG[\"FUNDAMENTAL\"][\"PROCESSOR\"])\n",
    "\n",
    "    ### 2. Get Filtered_stockcodes\n",
    "    factor_filter = FACTOR_FILTER(fundamental_factor_df)\n",
    "    f_stockcodes = factor_filter.get_filtered_stockcodes(CFG[\"FUNDAMENTAL\"][\"FILTER\"])\n",
    "    f_stockcodes_list.append(f_stockcodes)\n",
    "\n",
    "f_stockcodes = set(sum([list(i) for i in f_stockcodes_list], []))"
   ]
  },
  {
   "cell_type": "code",
   "execution_count": 25,
   "metadata": {},
   "outputs": [],
   "source": [
    "# Technical\n",
    "# Moving Average\n",
    "\n",
    "## Paramter\n",
    "### 1. Get Factor_df\n",
    "moving_average_factor_processor = MOVING_AVERAGE_FACTOR_PROCESSOR(past_ohlcv_df, fdr_info_processor)\n",
    "moving_average_factors_df = moving_average_factor_processor.get_factor_df(\n",
    "    CFG[\"MOVING_AVERAGE\"][\"PROCESSOR\"]\n",
    ")\n",
    "\n",
    "### 2. Get Parameter\n",
    "moving_average_factor_analyser = FACTOR_ANALYSER(moving_average_factors_df)\n",
    "moving_average_params_dict = model_paramter_processor.get_params_dict(future_ohlcv_df, moving_average_factor_analyser)\n",
    "moving_average_param_df = pd.DataFrame().from_dict(\n",
    "    moving_average_params_dict, orient=\"index\", columns=[\"Value\", \"Variance\"]\n",
    ")\n",
    "\n",
    "### 3. Set Paramter\n",
    "moving_average_params = moving_average_param_df.nlargest(6, \"Value\").nsmallest(3, \"Variance\").index\n",
    "\n",
    "ma_stockcodes_list = list()\n",
    "for moving_average_param in moving_average_params:\n",
    "    CFG[\"MOVING_AVERAGE\"][\"FILTER\"][\"quantile_conditions\"] = moving_average_param\n",
    "\n",
    "    ## Model\n",
    "    ### 1. Get Factor_df\n",
    "    moving_average_factor_processor = MOVING_AVERAGE_FACTOR_PROCESSOR(ohlcv_df, fdr_info_processor)\n",
    "    moving_average_factor_df = moving_average_factor_processor.get_factor_df(\n",
    "        CFG[\"MOVING_AVERAGE\"][\"PROCESSOR\"]\n",
    "    )\n",
    "\n",
    "    ### 2. Get Filtered_stockcodes\n",
    "    factor_filter = FACTOR_FILTER(moving_average_factor_df)\n",
    "    ma_stockcodes = factor_filter.get_filtered_stockcodes(CFG[\"MOVING_AVERAGE\"][\"FILTER\"])\n",
    "    ma_stockcodes_list.append(ma_stockcodes)\n",
    "\n",
    "ma_stockcodes = set(sum([list(i) for i in ma_stockcodes_list], []))"
   ]
  },
  {
   "cell_type": "code",
   "execution_count": 26,
   "metadata": {},
   "outputs": [],
   "source": [
    "# Technical\n",
    "# Linear Coef\n",
    "\n",
    "## Paramter\n",
    "### 1. Get Factor_df\n",
    "linear_coef_factor_processor = LINEAR_COEF_FACTOR_PROCESSOR(past_ohlcv_df, fdr_info_processor)\n",
    "linear_coef_factors_df = linear_coef_factor_processor.get_factor_df(\n",
    "    CFG[\"LINEAR_COEF\"][\"PROCESSOR\"]\n",
    ")\n",
    "\n",
    "### 2. Get Parameter\n",
    "linear_coef_factor_analyser = FACTOR_ANALYSER(linear_coef_factors_df)\n",
    "linear_coef_params_dict = model_paramter_processor.get_params_dict(future_ohlcv_df, linear_coef_factor_analyser)\n",
    "linear_coef_param_df = pd.DataFrame().from_dict(\n",
    "    linear_coef_params_dict, orient=\"index\", columns=[\"Value\", \"Variance\"]\n",
    ")\n",
    "\n",
    "### 3. Set Paramter\n",
    "linear_coef_params = linear_coef_param_df.nlargest(6, \"Value\").nsmallest(3, \"Variance\").index\n",
    "\n",
    "lc_stockcodes_list = list()\n",
    "for linear_coef_param in linear_coef_params:\n",
    "    CFG[\"LINEAR_COEF\"][\"FILTER\"][\"quantile_conditions\"] = linear_coef_param\n",
    "\n",
    "    ## Model\n",
    "    ### 1. Get Factor_df\n",
    "    linear_coef_factor_processor = LINEAR_COEF_FACTOR_PROCESSOR(ohlcv_df, fdr_info_processor)\n",
    "    linear_coef_factor_df = linear_coef_factor_processor.get_factor_df(\n",
    "        CFG[\"LINEAR_COEF\"][\"PROCESSOR\"]\n",
    "    )\n",
    "\n",
    "    ### 2. Get Filtered_stockcodes\n",
    "    factor_filter = FACTOR_FILTER(linear_coef_factor_df)\n",
    "    lc_stockcodes = factor_filter.get_filtered_stockcodes(CFG[\"LINEAR_COEF\"][\"FILTER\"])\n",
    "    lc_stockcodes_list.append(lc_stockcodes)\n",
    "\n",
    "lc_stockcodes = set(sum([list(i) for i in lc_stockcodes_list], []))"
   ]
  },
  {
   "cell_type": "code",
   "execution_count": 27,
   "metadata": {},
   "outputs": [],
   "source": [
    "f_ma_stockcodes = f_stockcodes & ma_stockcodes\n",
    "f_lc_stockcodes = f_stockcodes & lc_stockcodes"
   ]
  },
  {
   "cell_type": "code",
   "execution_count": 30,
   "metadata": {},
   "outputs": [],
   "source": [
    "# Trader\n",
    "pykrx_loader = get_pykrx_loader()\n",
    "\n",
    "trader_factor_processor = TRADER_FACTOR_PROCESSOR(pykrx_loader)\n",
    "\n",
    "## Fundamental - Linear Coef - Trader\n",
    "trader_factor_df = trader_factor_processor.get_factor_df(f_lc_stockcodes, CFG[\"TRADER\"][\"PROCESSOR\"])\n",
    "factor_filter = FACTOR_FILTER(trader_factor_df)\n",
    "f_lc_t_stockcodes = factor_filter.get_filtered_stockcodes(CFG[\"TRADER\"][\"FILTER\"], f_lc_stockcodes)\n",
    "\n",
    "## Fundamental - Moving Avergae - Trader\n",
    "trader_factor_df = trader_factor_processor.get_factor_df(f_ma_stockcodes, CFG[\"TRADER\"][\"PROCESSOR\"])\n",
    "factor_filter = FACTOR_FILTER(trader_factor_df)\n",
    "f_ma_t_stockcodes = factor_filter.get_filtered_stockcodes(CFG[\"TRADER\"][\"FILTER\"], f_ma_stockcodes)"
   ]
  },
  {
   "cell_type": "code",
   "execution_count": 31,
   "metadata": {},
   "outputs": [
    {
     "data": {
      "text/plain": [
       "{'023960', '298040'}"
      ]
     },
     "execution_count": 31,
     "metadata": {},
     "output_type": "execute_result"
    }
   ],
   "source": [
    "f_lc_t_stockcodes"
   ]
  },
  {
   "cell_type": "code",
   "execution_count": 32,
   "metadata": {},
   "outputs": [
    {
     "data": {
      "text/plain": [
       "{'047050', '063170', '066970', '079810'}"
      ]
     },
     "execution_count": 32,
     "metadata": {},
     "output_type": "execute_result"
    }
   ],
   "source": [
    "f_ma_t_stockcodes"
   ]
  }
 ],
 "metadata": {
  "kernelspec": {
   "display_name": "quant_trading",
   "language": "python",
   "name": "python3"
  },
  "language_info": {
   "codemirror_mode": {
    "name": "ipython",
    "version": 3
   },
   "file_extension": ".py",
   "mimetype": "text/x-python",
   "name": "python",
   "nbconvert_exporter": "python",
   "pygments_lexer": "ipython3",
   "version": "3.10.13"
  }
 },
 "nbformat": 4,
 "nbformat_minor": 2
}
